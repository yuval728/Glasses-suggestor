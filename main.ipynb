{
 "cells": [
  {
   "cell_type": "code",
   "execution_count": 5,
   "metadata": {},
   "outputs": [],
   "source": [
    "import cv2\n",
    "import os"
   ]
  },
  {
   "cell_type": "code",
   "execution_count": 7,
   "metadata": {},
   "outputs": [],
   "source": [
    "glasses_list = os.listdir('Glasses')\n",
    "# glasses_list"
   ]
  },
  {
   "cell_type": "code",
   "execution_count": 12,
   "metadata": {},
   "outputs": [],
   "source": [
    "cap = cv2.VideoCapture(0)\n",
    "cascade = cv2.CascadeClassifier(cv2.data.haarcascades + 'haarcascade_frontalface_default.xml')\n",
    "\n",
    "num=1\n",
    "while True:\n",
    "    k=cv2.waitKey(10)\n",
    "    if k == ord('d'):\n",
    "        num += 1\n",
    "    if k == ord('a'):\n",
    "        num -= 1\n",
    "    if k == ord('q'):\n",
    "        break\n",
    "    if k == ord('r'):\n",
    "        num = 1\n",
    "    \n",
    "    if num > len(glasses_list):\n",
    "        num = 1\n",
    "        \n",
    "    overlay = cv2.imread(f'Glasses/{glasses_list[num-1]}', cv2.IMREAD_UNCHANGED)\n",
    "    _, frame = cap.read()\n",
    "    # frame = cv2.flip(frame, 1)\n",
    "    gray = cv2.cvtColor(frame, cv2.COLOR_BGR2GRAY)\n",
    "    faces = cascade.detectMultiScale(gray, 1.1, 4)\n",
    "    # frame = cv2.cvtColor(frame, cv2.COLOR_BGR2BGRA)\n",
    "    for (x, y, w, h) in faces:\n",
    "        # cv2.rectangle(frame, (x, y), (x+w, y+h), (0, 255, 0), 2)\n",
    "        overlay = cv2.resize(overlay, (w, int(h*0.8)))\n",
    "        for i in range(overlay.shape[0]):\n",
    "            for j in range(overlay.shape[1]):\n",
    "                if overlay[i, j, 3] != 0:\n",
    "                    frame[y+i, x+j] = overlay[i, j, 0:3]\n",
    "    cv2.imshow('Frame', frame)\n",
    "    \n",
    "cap.release()\n",
    "cv2.destroyAllWindows()\n",
    "    "
   ]
  },
  {
   "cell_type": "code",
   "execution_count": null,
   "metadata": {},
   "outputs": [],
   "source": []
  }
 ],
 "metadata": {
  "kernelspec": {
   "display_name": "Python 3",
   "language": "python",
   "name": "python3"
  },
  "language_info": {
   "codemirror_mode": {
    "name": "ipython",
    "version": 3
   },
   "file_extension": ".py",
   "mimetype": "text/x-python",
   "name": "python",
   "nbconvert_exporter": "python",
   "pygments_lexer": "ipython3",
   "version": "3.11.9"
  }
 },
 "nbformat": 4,
 "nbformat_minor": 2
}
